{
 "cells": [
  {
   "cell_type": "code",
   "execution_count": 211,
   "metadata": {},
   "outputs": [],
   "source": [
    "import os\n"
   ]
  },
  {
   "cell_type": "code",
   "execution_count": 215,
   "metadata": {},
   "outputs": [
    {
     "name": "stdout",
     "output_type": "stream",
     "text": [
      "('Code Kopie/', ['__pycache__'], ['M_Plots.py', 'M_Helfer.py', 'K_Component.py', 'M_PlotObjects.py', 'M_DataAnalysis.py', 'M_PCKL.py', 'M_IGU.py', 'M_GB.py', 'M_Shape.py', 'M_Shapewrapper.py', 'M_EntsoG.py', 'M_GetCountry.py', 'M_Stats.py', 'M_MatLab.py', 'M_Norway.py', 'TestSetup.py', 'M_GSE.py', 'M_FindPos.py', 'K_Stats.py', 'SuperNetz.py', 'M_Visuell.py', 'JoinNetz.py', 'geojson_export.py', 'M_AutoDoku.py', 'C_colors.py', 'M_Internet.py', 'M_Projection.py', 'M_LoadAdditional.py', 'M_Test.py', 'M_Stats_2.py', 'M_Netze.py', 'nprecord.py', 'M_CSV.py', 'M_DataFrame.py', 'M_GIE.py', 'M_SQL.py', 'M_Graph.py', 'M_GasLib.py', 'K_Netze.py', 'mathematical_characterisation.py', 'agc.py', 'M_Matching.py', 'M_LKD.py', 'M_Filter.py', 'M_Leitungen.py', 'bounding-boxes.json'])\n",
      "('Code Kopie/__pycache__', [], ['M_CSV.cpython-38.pyc', 'M_Filter.cpython-38.pyc', 'C_colors.cpython-37.pyc', 'M_GB.cpython-38.pyc', 'M_PlotObjects.cpython-38.pyc', 'M_Helfer.cpython-38.pyc', 'M_LKD.cpython-38.pyc', 'JoinNetz.cpython-38.pyc', 'M_EntsoG.cpython-38.pyc', 'M_Internet.cpython-38.pyc', 'TestSetup.cpython-38.pyc', 'M_Projection.cpython-38.pyc', 'M_Visuell.cpython-37.pyc', 'M_Netze.cpython-38.pyc', 'M_DataFrame.cpython-38.pyc', 'M_IGU.cpython-38.pyc', 'M_Visuell.cpython-38.pyc', 'M_GasLib.cpython-38.pyc', 'M_Shape.cpython-38.pyc', 'K_Netze.cpython-38.pyc', 'K_Component.cpython-38.pyc', 'M_FindPos.cpython-38.pyc', 'M_MatLab.cpython-38.pyc', 'TestSetup.cpython-37.pyc', 'M_LoadAdditional.cpython-38.pyc', 'M_Stats.cpython-38.pyc', 'M_GIE.cpython-38.pyc', 'M_Matching.cpython-38.pyc', 'M_GSE.cpython-38.pyc', 'M_Plots.cpython-38.pyc', 'C_colors.cpython-38.pyc', 'M_DataAnalysis.cpython-38.pyc', 'M_Graph.cpython-38.pyc'])\n"
     ]
    }
   ],
   "source": [
    "for i in os.walk('Code Kopie/'):\n",
    "    print(i)"
   ]
  },
  {
   "cell_type": "code",
   "execution_count": 212,
   "metadata": {},
   "outputs": [],
   "source": [
    "m=list(os.walk('Code Kopie/'))"
   ]
  },
  {
   "cell_type": "code",
   "execution_count": 214,
   "metadata": {},
   "outputs": [
    {
     "name": "stdout",
     "output_type": "stream",
     "text": [
      "M_Stats.py\n"
     ]
    }
   ],
   "source": [
    "for name in m[0][2]:\n",
    "    file = open('Code Kopie/'+name)\n",
    "\n",
    "    line = file.read().replace(\"\\n\", \" \")\n",
    "    if re.search(r'Lasso',line):\n",
    "        print(name)\n",
    "    file.close()"
   ]
  },
  {
   "cell_type": "code",
   "execution_count": 221,
   "metadata": {},
   "outputs": [
    {
     "name": "stdout",
     "output_type": "stream",
     "text": [
      "M_Stats.py\n",
      "M_DataFrame.py\n"
     ]
    }
   ],
   "source": [
    "for name in m[0][2]:\n",
    "    file = open('Code Kopie/'+name)\n",
    "\n",
    "    line = file.read().replace(\"\\n\", \" \")\n",
    "    if re.search(r'[rR]egression',line):\n",
    "        print(name)\n",
    "    file.close()"
   ]
  },
  {
   "cell_type": "code",
   "execution_count": 217,
   "metadata": {},
   "outputs": [
    {
     "name": "stdout",
     "output_type": "stream",
     "text": [
      "M_Stats.py\n",
      "M_Stats_2.py\n",
      "K_Netze.py\n"
     ]
    }
   ],
   "source": [
    "for name in m[0][2]:\n",
    "    file = open('Code Kopie/'+name)\n",
    "\n",
    "    line = file.read().replace(\"\\n\", \" \")\n",
    "    if re.search(r'M_Stats',line):\n",
    "        print(name)\n",
    "    file.close()"
   ]
  },
  {
   "cell_type": "code",
   "execution_count": null,
   "metadata": {},
   "outputs": [],
   "source": [
    "#github new version is 01.2020 no more new 11 month ago\n",
    "#can't find key word 'IGG' in any files inside Code folder means no code how they generate IGG dataset\n",
    "#find the way in code how they filling missing data\n",
    "#they use same sklearn lasso package, but no code use this module"
   ]
  }
 ],
 "metadata": {
  "kernelspec": {
   "display_name": "Python [conda env:sci_grid]",
   "language": "python",
   "name": "conda-env-sci_grid-py"
  },
  "language_info": {
   "codemirror_mode": {
    "name": "ipython",
    "version": 3
   },
   "file_extension": ".py",
   "mimetype": "text/x-python",
   "name": "python",
   "nbconvert_exporter": "python",
   "pygments_lexer": "ipython3",
   "version": "3.8.2"
  },
  "toc": {
   "base_numbering": 1,
   "nav_menu": {},
   "number_sections": true,
   "sideBar": true,
   "skip_h1_title": false,
   "title_cell": "Table of Contents",
   "title_sidebar": "Contents",
   "toc_cell": false,
   "toc_position": {},
   "toc_section_display": true,
   "toc_window_display": false
  },
  "varInspector": {
   "cols": {
    "lenName": 16,
    "lenType": 16,
    "lenVar": 40
   },
   "kernels_config": {
    "python": {
     "delete_cmd_postfix": "",
     "delete_cmd_prefix": "del ",
     "library": "var_list.py",
     "varRefreshCmd": "print(var_dic_list())"
    },
    "r": {
     "delete_cmd_postfix": ") ",
     "delete_cmd_prefix": "rm(",
     "library": "var_list.r",
     "varRefreshCmd": "cat(var_dic_list()) "
    }
   },
   "types_to_exclude": [
    "module",
    "function",
    "builtin_function_or_method",
    "instance",
    "_Feature"
   ],
   "window_display": false
  }
 },
 "nbformat": 4,
 "nbformat_minor": 4
}
